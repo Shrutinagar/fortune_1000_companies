{
 "cells": [
  {
   "cell_type": "markdown",
   "metadata": {},
   "source": [
    "# Fortune 1000 companies in 2022\n",
    "\n",
    "![](https://puml.io/wp-content/uploads/2022/09/Untitled-design-20-1024x576.png)\n",
    "\n",
    "This project aims to analyze the dataset of `Fortune 1000 companies` in `2022`. The dataset provides information about the top 1000 companies based on their revenue in the year 2022. This dataset includes various attributes such as **Company**, **Rank**, **Revenue**, and more.\n",
    "\n",
    "The goal of this project is to gain insights into the Fortune 1000 companies and understand trends, patterns, and characteristics of these companies in 2022. To analyze the dataset, we can utilize tools and techniques such as data visualization, statistical analysis, and exploratory data analysis. We can use programming language like Python along with its libraries like `Pandas`, `NumPy`, and `Matplotlib` for data manipulation, analysis, and visualization."
   ]
  },
  {
   "cell_type": "markdown",
   "metadata": {},
   "source": [
    "## Importing Python Libraries"
   ]
  },
  {
   "cell_type": "code",
   "execution_count": 3,
   "metadata": {},
   "outputs": [],
   "source": [
    "!pip install pandas --upgrade --quiet\n",
    "!pip install matplotlib --upgrade --quiet\n",
    "!pip install seaborn --upgrade --quiet"
   ]
  },
  {
   "cell_type": "code",
   "execution_count": 4,
   "metadata": {},
   "outputs": [],
   "source": [
    "import numpy as np\n",
    "import pandas as pd\n",
    "import matplotlib.pyplot as plt\n",
    "import matplotlib as mpl\n",
    "import seaborn as sns"
   ]
  },
  {
   "cell_type": "markdown",
   "metadata": {},
   "source": [
    "## Downloading the Dataset\n",
    "\n",
    "> - Downloading the kaggle dataset of 2022's Fortune 1000 companies (on highest revenue basis)"
   ]
  },
  {
   "cell_type": "code",
   "execution_count": 5,
   "metadata": {},
   "outputs": [],
   "source": [
    "url = \"https://raw.githubusercontent.com/Shrutinagar/fortune_1000_companies/main/fortune_1000_companies_2022_dataset.csv\""
   ]
  },
  {
   "cell_type": "code",
   "execution_count": 6,
   "metadata": {},
   "outputs": [
    {
     "data": {
      "text/plain": [
       "('fortune_1000_companies.csv', <http.client.HTTPMessage at 0x7f3047a6dd00>)"
      ]
     },
     "execution_count": 6,
     "metadata": {},
     "output_type": "execute_result"
    }
   ],
   "source": [
    "from urllib.request import urlretrieve\n",
    "urlretrieve(url, \"fortune_1000_companies.csv\")"
   ]
  },
  {
   "cell_type": "markdown",
   "metadata": {},
   "source": [
    "The dataset has been downloaded and extracted."
   ]
  },
  {
   "cell_type": "markdown",
   "metadata": {},
   "source": [
    "## Data Preparation and Cleaning\n",
    "\n",
    "> - Exploring the data, check it's shape, count of rows and columns. \n",
    "> - Cleaning the data by stripping unwanted spaces, removing unwanted columns, check datatypes and check for missing values in the dataset"
   ]
  },
  {
   "cell_type": "markdown",
   "metadata": {},
   "source": [
    "### Data Preparation"
   ]
  },
  {
   "cell_type": "code",
   "execution_count": 7,
   "metadata": {},
   "outputs": [],
   "source": [
    "# loading dataset into dataframe using Pandas\n",
    "fortune_1000_df = pd.read_csv(\"fortune_1000_companies.csv\")"
   ]
  },
  {
   "cell_type": "code",
   "execution_count": 9,
   "metadata": {},
   "outputs": [
    {
     "name": "stdout",
     "output_type": "stream",
     "text": [
      "(1000, 11)\n"
     ]
    }
   ],
   "source": [
    "print(fortune_1000_df.shape)"
   ]
  },
  {
   "cell_type": "code",
   "execution_count": 10,
   "metadata": {},
   "outputs": [
    {
     "name": "stdout",
     "output_type": "stream",
     "text": [
      "1000\n"
     ]
    }
   ],
   "source": [
    "# Explore the number of rows & columns, ranges of values etc.\n",
    "# number of rows in the dataset\n",
    "rows = fortune_1000_df.count()[0]\n",
    "print(rows)"
   ]
  },
  {
   "cell_type": "code",
   "execution_count": 11,
   "metadata": {},
   "outputs": [
    {
     "name": "stdout",
     "output_type": "stream",
     "text": [
      "11\n"
     ]
    }
   ],
   "source": [
    "# number of columns in the dataset\n",
    "columns = fortune_1000_df.shape[1]\n",
    "print(columns)"
   ]
  },
  {
   "cell_type": "code",
   "execution_count": 12,
   "metadata": {
    "scrolled": false
   },
   "outputs": [
    {
     "data": {
      "text/plain": [
       "Rank_in_2022                              int64\n",
       "Name                                     object\n",
       "Revenue(in millions)                      int64\n",
       "Revenue(% change)                        object\n",
       "Profits(in millions)                     object\n",
       "Profits(% change)                        object\n",
       " Assets                                   int64\n",
       "Market_Value                             object\n",
       "Change in Rank of top 1000 companies    float64\n",
       "Employees                                 int64\n",
       "Change in Rank (500 only)               float64\n",
       "dtype: object"
      ]
     },
     "execution_count": 12,
     "metadata": {},
     "output_type": "execute_result"
    }
   ],
   "source": [
    "# datatypes\n",
    "fortune_1000_df.dtypes"
   ]
  },
  {
   "cell_type": "markdown",
   "metadata": {},
   "source": [
    "### Clean & Transform Data"
   ]
  },
  {
   "cell_type": "markdown",
   "metadata": {},
   "source": [
    "#### Rename Columns"
   ]
  },
  {
   "cell_type": "code",
   "execution_count": 13,
   "metadata": {
    "scrolled": true
   },
   "outputs": [],
   "source": [
    "fortune_1000_df.rename(columns = {'Rank_in_2022': \"Rank\",\n",
    "                       'Name': 'Company_Name',\n",
    "                       'Revenue(in millions)': 'Revenue_$M',\n",
    "                       'Revenue(% change)': 'Revenue_change%',\n",
    "                       'Profits(in millions)': 'Profits_$M',\n",
    "                       'Profits(% change)': 'Profits_change%',\n",
    "                       ' Assets': 'Assets_$M',\n",
    "                       'Market_Value': 'Market_Value_$M'}, inplace=True)"
   ]
  },
  {
   "cell_type": "code",
   "execution_count": 14,
   "metadata": {},
   "outputs": [
    {
     "data": {
      "text/plain": [
       "Index(['Rank', 'Company_Name', 'Revenue_$M', 'Revenue_change%', 'Profits_$M',\n",
       "       'Profits_change%', 'Assets_$M', 'Market_Value_$M',\n",
       "       'Change in Rank of top 1000 companies', 'Employees',\n",
       "       'Change in Rank (500 only)'],\n",
       "      dtype='object')"
      ]
     },
     "execution_count": 14,
     "metadata": {},
     "output_type": "execute_result"
    }
   ],
   "source": [
    "fortune_1000_df.columns"
   ]
  },
  {
   "cell_type": "markdown",
   "metadata": {},
   "source": [
    "#### Check Duplicates\n",
    "`Company_Name`"
   ]
  },
  {
   "cell_type": "code",
   "execution_count": 15,
   "metadata": {
    "scrolled": true
   },
   "outputs": [
    {
     "data": {
      "text/plain": [
       "1000"
      ]
     },
     "execution_count": 15,
     "metadata": {},
     "output_type": "execute_result"
    }
   ],
   "source": [
    "fortune_1000_df[\"Company_Name\"].nunique()"
   ]
  },
  {
   "cell_type": "markdown",
   "metadata": {},
   "source": [
    "There are no duplicate companies in the dataset"
   ]
  },
  {
   "cell_type": "markdown",
   "metadata": {},
   "source": [
    "#### Drop Columns\n",
    "\n",
    "> - There is no requirement for `rank of top 1000` and `top 500` companies for this analysis \n",
    "> - They also they have too many missing values"
   ]
  },
  {
   "cell_type": "code",
   "execution_count": 16,
   "metadata": {},
   "outputs": [],
   "source": [
    "# specify columns to drop\n",
    "columns_to_drop = ['Change in Rank of top 1000 companies', 'Change in Rank (500 only)']\n",
    "fortune_1000_df.drop(columns = columns_to_drop, inplace=True)"
   ]
  },
  {
   "cell_type": "code",
   "execution_count": 17,
   "metadata": {
    "scrolled": false
   },
   "outputs": [
    {
     "data": {
      "text/plain": [
       "Index(['Rank', 'Company_Name', 'Revenue_$M', 'Revenue_change%', 'Profits_$M',\n",
       "       'Profits_change%', 'Assets_$M', 'Market_Value_$M', 'Employees'],\n",
       "      dtype='object')"
      ]
     },
     "execution_count": 17,
     "metadata": {},
     "output_type": "execute_result"
    }
   ],
   "source": [
    "fortune_1000_df.columns"
   ]
  },
  {
   "cell_type": "markdown",
   "metadata": {},
   "source": [
    "2 Columns Removed from the dataset"
   ]
  },
  {
   "cell_type": "markdown",
   "metadata": {},
   "source": [
    "#### Fill Empty Cells\n",
    "> - Change value of empty columns in `Revenue_change%` and `Profits_change%` to 0"
   ]
  },
  {
   "cell_type": "code",
   "execution_count": 18,
   "metadata": {
    "scrolled": true
   },
   "outputs": [
    {
     "data": {
      "text/plain": [
       "8"
      ]
     },
     "execution_count": 18,
     "metadata": {},
     "output_type": "execute_result"
    }
   ],
   "source": [
    "fortune_1000_df['Revenue_change%'].isnull().sum()"
   ]
  },
  {
   "cell_type": "code",
   "execution_count": 19,
   "metadata": {
    "scrolled": true
   },
   "outputs": [
    {
     "data": {
      "text/plain": [
       "273"
      ]
     },
     "execution_count": 19,
     "metadata": {},
     "output_type": "execute_result"
    }
   ],
   "source": [
    "fortune_1000_df['Profits_change%'].isnull().sum()"
   ]
  },
  {
   "cell_type": "code",
   "execution_count": 20,
   "metadata": {},
   "outputs": [],
   "source": [
    "fortune_1000_df.fillna(0, inplace = True)"
   ]
  },
  {
   "cell_type": "markdown",
   "metadata": {},
   "source": [
    "All the Empty cells are replaced with the value 0"
   ]
  },
  {
   "cell_type": "markdown",
   "metadata": {},
   "source": [
    "#### Dataset Statistics"
   ]
  },
  {
   "cell_type": "code",
   "execution_count": 21,
   "metadata": {
    "scrolled": true
   },
   "outputs": [
    {
     "data": {
      "text/html": [
       "<div>\n",
       "<style scoped>\n",
       "    .dataframe tbody tr th:only-of-type {\n",
       "        vertical-align: middle;\n",
       "    }\n",
       "\n",
       "    .dataframe tbody tr th {\n",
       "        vertical-align: top;\n",
       "    }\n",
       "\n",
       "    .dataframe thead th {\n",
       "        text-align: right;\n",
       "    }\n",
       "</style>\n",
       "<table border=\"1\" class=\"dataframe\">\n",
       "  <thead>\n",
       "    <tr style=\"text-align: right;\">\n",
       "      <th></th>\n",
       "      <th>Rank</th>\n",
       "      <th>Revenue_$M</th>\n",
       "      <th>Assets_$M</th>\n",
       "      <th>Employees</th>\n",
       "    </tr>\n",
       "  </thead>\n",
       "  <tbody>\n",
       "    <tr>\n",
       "      <th>count</th>\n",
       "      <td>1000.000000</td>\n",
       "      <td>1000.000000</td>\n",
       "      <td>1.000000e+03</td>\n",
       "      <td>1.000000e+03</td>\n",
       "    </tr>\n",
       "    <tr>\n",
       "      <th>mean</th>\n",
       "      <td>500.500000</td>\n",
       "      <td>17986.829000</td>\n",
       "      <td>6.063228e+04</td>\n",
       "      <td>3.575853e+04</td>\n",
       "    </tr>\n",
       "    <tr>\n",
       "      <th>std</th>\n",
       "      <td>288.819436</td>\n",
       "      <td>40813.273688</td>\n",
       "      <td>2.642393e+05</td>\n",
       "      <td>1.046066e+05</td>\n",
       "    </tr>\n",
       "    <tr>\n",
       "      <th>min</th>\n",
       "      <td>1.000000</td>\n",
       "      <td>2107.000000</td>\n",
       "      <td>4.140000e+02</td>\n",
       "      <td>1.600000e+02</td>\n",
       "    </tr>\n",
       "    <tr>\n",
       "      <th>25%</th>\n",
       "      <td>250.750000</td>\n",
       "      <td>3501.000000</td>\n",
       "      <td>4.907250e+03</td>\n",
       "      <td>6.498750e+03</td>\n",
       "    </tr>\n",
       "    <tr>\n",
       "      <th>50%</th>\n",
       "      <td>500.500000</td>\n",
       "      <td>6375.500000</td>\n",
       "      <td>1.173400e+04</td>\n",
       "      <td>1.352750e+04</td>\n",
       "    </tr>\n",
       "    <tr>\n",
       "      <th>75%</th>\n",
       "      <td>750.250000</td>\n",
       "      <td>14615.500000</td>\n",
       "      <td>3.223900e+04</td>\n",
       "      <td>2.885000e+04</td>\n",
       "    </tr>\n",
       "    <tr>\n",
       "      <th>max</th>\n",
       "      <td>1000.000000</td>\n",
       "      <td>572754.000000</td>\n",
       "      <td>4.229166e+06</td>\n",
       "      <td>2.300000e+06</td>\n",
       "    </tr>\n",
       "  </tbody>\n",
       "</table>\n",
       "</div>"
      ],
      "text/plain": [
       "              Rank     Revenue_$M     Assets_$M     Employees\n",
       "count  1000.000000    1000.000000  1.000000e+03  1.000000e+03\n",
       "mean    500.500000   17986.829000  6.063228e+04  3.575853e+04\n",
       "std     288.819436   40813.273688  2.642393e+05  1.046066e+05\n",
       "min       1.000000    2107.000000  4.140000e+02  1.600000e+02\n",
       "25%     250.750000    3501.000000  4.907250e+03  6.498750e+03\n",
       "50%     500.500000    6375.500000  1.173400e+04  1.352750e+04\n",
       "75%     750.250000   14615.500000  3.223900e+04  2.885000e+04\n",
       "max    1000.000000  572754.000000  4.229166e+06  2.300000e+06"
      ]
     },
     "execution_count": 21,
     "metadata": {},
     "output_type": "execute_result"
    }
   ],
   "source": [
    "# Statistical data for numerical columns\n",
    "fortune_1000_df.describe()"
   ]
  },
  {
   "cell_type": "markdown",
   "metadata": {},
   "source": [
    "Few more columns from the dataset are suppsosed to be integer or float but their Dtype is object\n",
    "\n",
    "Therefore the above Statistical data is incomplete"
   ]
  },
  {
   "cell_type": "markdown",
   "metadata": {},
   "source": [
    "#### Convert Datatypes"
   ]
  },
  {
   "cell_type": "markdown",
   "metadata": {},
   "source": [
    "> `Profits_$M`\n",
    "\n",
    "Because there is a string `-` in the column's data, I have to change the value to zero for applying `astype(int)` "
   ]
  },
  {
   "cell_type": "code",
   "execution_count": 22,
   "metadata": {},
   "outputs": [],
   "source": [
    "# Replace non-numeric values in the \"Profits_$M\" column with 0\n",
    "fortune_1000_df[\"Profits_$M\"] = fortune_1000_df['Profits_$M'].replace(' - ', 0)"
   ]
  },
  {
   "cell_type": "code",
   "execution_count": 23,
   "metadata": {},
   "outputs": [],
   "source": [
    "# Convert the \"Employees\" column to integers\n",
    "fortune_1000_df['Profits_$M'] = fortune_1000_df['Profits_$M'].astype(int)"
   ]
  },
  {
   "cell_type": "markdown",
   "metadata": {},
   "source": [
    "> `Market_Value`\n",
    "- Converting `Market_Value_$M` column to int64 gives out error due to decimal values\n",
    "- And the `int()` function can only convert whole numbers, not decimal numbers.\n",
    "\n",
    "To solve this error, I will use the `astype(float)` function instead of `astype(int)`. This will convert the column to float data type, which can handle decimal values.\n"
   ]
  },
  {
   "cell_type": "code",
   "execution_count": 24,
   "metadata": {},
   "outputs": [],
   "source": [
    "fortune_1000_df[\"Market_Value_$M\"] = fortune_1000_df[\"Market_Value_$M\"].replace(\" - \", 0).astype(float)"
   ]
  },
  {
   "cell_type": "markdown",
   "metadata": {},
   "source": [
    "##### Percetage Columns\n",
    "> `Revenue_change%` & `Profits_change%`\n",
    "\n",
    "**Steps:** \n",
    "1. Remove the percentage symbol '%' from the values in the column"
   ]
  },
  {
   "cell_type": "code",
   "execution_count": 25,
   "metadata": {},
   "outputs": [],
   "source": [
    "fortune_1000_df[\"Revenue_change%\"] = fortune_1000_df['Revenue_change%'].str.replace('%', '')\n",
    "fortune_1000_df[\"Profits_change%\"] = fortune_1000_df['Profits_change%'].str.replace('%', '')"
   ]
  },
  {
   "cell_type": "code",
   "execution_count": 26,
   "metadata": {},
   "outputs": [],
   "source": [
    "fortune_1000_df.fillna(0, inplace = True)"
   ]
  },
  {
   "cell_type": "code",
   "execution_count": 27,
   "metadata": {
    "scrolled": true
   },
   "outputs": [
    {
     "data": {
      "text/html": [
       "<div>\n",
       "<style scoped>\n",
       "    .dataframe tbody tr th:only-of-type {\n",
       "        vertical-align: middle;\n",
       "    }\n",
       "\n",
       "    .dataframe tbody tr th {\n",
       "        vertical-align: top;\n",
       "    }\n",
       "\n",
       "    .dataframe thead th {\n",
       "        text-align: right;\n",
       "    }\n",
       "</style>\n",
       "<table border=\"1\" class=\"dataframe\">\n",
       "  <thead>\n",
       "    <tr style=\"text-align: right;\">\n",
       "      <th></th>\n",
       "      <th>Rank</th>\n",
       "      <th>Company_Name</th>\n",
       "      <th>Revenue_$M</th>\n",
       "      <th>Revenue_change%</th>\n",
       "      <th>Profits_$M</th>\n",
       "      <th>Profits_change%</th>\n",
       "      <th>Assets_$M</th>\n",
       "      <th>Market_Value_$M</th>\n",
       "      <th>Employees</th>\n",
       "    </tr>\n",
       "  </thead>\n",
       "  <tbody>\n",
       "    <tr>\n",
       "      <th>255</th>\n",
       "      <td>256</td>\n",
       "      <td>Principal Financial</td>\n",
       "      <td>14263</td>\n",
       "      <td>-3.20</td>\n",
       "      <td>1711</td>\n",
       "      <td>22.60</td>\n",
       "      <td>304657</td>\n",
       "      <td>19176.7</td>\n",
       "      <td>18600</td>\n",
       "    </tr>\n",
       "  </tbody>\n",
       "</table>\n",
       "</div>"
      ],
      "text/plain": [
       "     Rank         Company_Name  Revenue_$M Revenue_change%  Profits_$M  \\\n",
       "255   256  Principal Financial       14263           -3.20        1711   \n",
       "\n",
       "    Profits_change%  Assets_$M  Market_Value_$M  Employees  \n",
       "255           22.60     304657          19176.7      18600  "
      ]
     },
     "execution_count": 27,
     "metadata": {},
     "output_type": "execute_result"
    }
   ],
   "source": [
    "fortune_1000_df.sample()"
   ]
  },
  {
   "cell_type": "markdown",
   "metadata": {},
   "source": [
    "2. Change datatype to a float"
   ]
  },
  {
   "cell_type": "code",
   "execution_count": 28,
   "metadata": {},
   "outputs": [],
   "source": [
    "fortune_1000_df['Revenue_change%'] = fortune_1000_df['Revenue_change%'].astype(float)\n",
    "fortune_1000_df['Profits_change%'] = fortune_1000_df['Profits_change%'].astype(float)"
   ]
  },
  {
   "cell_type": "markdown",
   "metadata": {},
   "source": [
    "Some of the column's statistical data is represented through scientific notation\n",
    "- To correct that we can use:"
   ]
  },
  {
   "cell_type": "code",
   "execution_count": 29,
   "metadata": {},
   "outputs": [],
   "source": [
    "pd.options.display.float_format = '{:.0f}'.format"
   ]
  },
  {
   "cell_type": "code",
   "execution_count": 30,
   "metadata": {},
   "outputs": [
    {
     "data": {
      "text/html": [
       "<div>\n",
       "<style scoped>\n",
       "    .dataframe tbody tr th:only-of-type {\n",
       "        vertical-align: middle;\n",
       "    }\n",
       "\n",
       "    .dataframe tbody tr th {\n",
       "        vertical-align: top;\n",
       "    }\n",
       "\n",
       "    .dataframe thead th {\n",
       "        text-align: right;\n",
       "    }\n",
       "</style>\n",
       "<table border=\"1\" class=\"dataframe\">\n",
       "  <thead>\n",
       "    <tr style=\"text-align: right;\">\n",
       "      <th></th>\n",
       "      <th>Rank</th>\n",
       "      <th>Company_Name</th>\n",
       "      <th>Revenue_$M</th>\n",
       "      <th>Revenue_change%</th>\n",
       "      <th>Profits_$M</th>\n",
       "      <th>Profits_change%</th>\n",
       "      <th>Assets_$M</th>\n",
       "      <th>Market_Value_$M</th>\n",
       "      <th>Employees</th>\n",
       "    </tr>\n",
       "  </thead>\n",
       "  <tbody>\n",
       "    <tr>\n",
       "      <th>280</th>\n",
       "      <td>281</td>\n",
       "      <td>Discover Financial Services</td>\n",
       "      <td>13221</td>\n",
       "      <td>2</td>\n",
       "      <td>5449</td>\n",
       "      <td>378</td>\n",
       "      <td>110242</td>\n",
       "      <td>31077</td>\n",
       "      <td>16700</td>\n",
       "    </tr>\n",
       "  </tbody>\n",
       "</table>\n",
       "</div>"
      ],
      "text/plain": [
       "     Rank                 Company_Name  Revenue_$M  Revenue_change%  \\\n",
       "280   281  Discover Financial Services       13221                2   \n",
       "\n",
       "     Profits_$M  Profits_change%  Assets_$M  Market_Value_$M  Employees  \n",
       "280        5449              378     110242            31077      16700  "
      ]
     },
     "execution_count": 30,
     "metadata": {},
     "output_type": "execute_result"
    }
   ],
   "source": [
    "fortune_1000_df.sample()"
   ]
  },
  {
   "cell_type": "code",
   "execution_count": 31,
   "metadata": {},
   "outputs": [
    {
     "data": {
      "text/html": [
       "<div>\n",
       "<style scoped>\n",
       "    .dataframe tbody tr th:only-of-type {\n",
       "        vertical-align: middle;\n",
       "    }\n",
       "\n",
       "    .dataframe tbody tr th {\n",
       "        vertical-align: top;\n",
       "    }\n",
       "\n",
       "    .dataframe thead th {\n",
       "        text-align: right;\n",
       "    }\n",
       "</style>\n",
       "<table border=\"1\" class=\"dataframe\">\n",
       "  <thead>\n",
       "    <tr style=\"text-align: right;\">\n",
       "      <th></th>\n",
       "      <th>Rank</th>\n",
       "      <th>Revenue_$M</th>\n",
       "      <th>Revenue_change%</th>\n",
       "      <th>Profits_$M</th>\n",
       "      <th>Profits_change%</th>\n",
       "      <th>Assets_$M</th>\n",
       "      <th>Market_Value_$M</th>\n",
       "      <th>Employees</th>\n",
       "    </tr>\n",
       "  </thead>\n",
       "  <tbody>\n",
       "    <tr>\n",
       "      <th>count</th>\n",
       "      <td>1000</td>\n",
       "      <td>1000</td>\n",
       "      <td>1000</td>\n",
       "      <td>1000</td>\n",
       "      <td>1000</td>\n",
       "      <td>1000</td>\n",
       "      <td>1000</td>\n",
       "      <td>1000</td>\n",
       "    </tr>\n",
       "    <tr>\n",
       "      <th>mean</th>\n",
       "      <td>500</td>\n",
       "      <td>17987</td>\n",
       "      <td>30</td>\n",
       "      <td>2020</td>\n",
       "      <td>59</td>\n",
       "      <td>60632</td>\n",
       "      <td>44803</td>\n",
       "      <td>35759</td>\n",
       "    </tr>\n",
       "    <tr>\n",
       "      <th>std</th>\n",
       "      <td>289</td>\n",
       "      <td>40813</td>\n",
       "      <td>99</td>\n",
       "      <td>6413</td>\n",
       "      <td>6093</td>\n",
       "      <td>264239</td>\n",
       "      <td>160080</td>\n",
       "      <td>104607</td>\n",
       "    </tr>\n",
       "    <tr>\n",
       "      <th>min</th>\n",
       "      <td>1</td>\n",
       "      <td>2107</td>\n",
       "      <td>-74</td>\n",
       "      <td>-6520</td>\n",
       "      <td>-177496</td>\n",
       "      <td>414</td>\n",
       "      <td>0</td>\n",
       "      <td>160</td>\n",
       "    </tr>\n",
       "    <tr>\n",
       "      <th>25%</th>\n",
       "      <td>251</td>\n",
       "      <td>3501</td>\n",
       "      <td>6</td>\n",
       "      <td>192</td>\n",
       "      <td>0</td>\n",
       "      <td>4907</td>\n",
       "      <td>4378</td>\n",
       "      <td>6499</td>\n",
       "    </tr>\n",
       "    <tr>\n",
       "      <th>50%</th>\n",
       "      <td>500</td>\n",
       "      <td>6376</td>\n",
       "      <td>16</td>\n",
       "      <td>570</td>\n",
       "      <td>17</td>\n",
       "      <td>11734</td>\n",
       "      <td>11774</td>\n",
       "      <td>13528</td>\n",
       "    </tr>\n",
       "    <tr>\n",
       "      <th>75%</th>\n",
       "      <td>750</td>\n",
       "      <td>14616</td>\n",
       "      <td>31</td>\n",
       "      <td>1490</td>\n",
       "      <td>78</td>\n",
       "      <td>32239</td>\n",
       "      <td>34069</td>\n",
       "      <td>28850</td>\n",
       "    </tr>\n",
       "    <tr>\n",
       "      <th>max</th>\n",
       "      <td>1000</td>\n",
       "      <td>572754</td>\n",
       "      <td>2199</td>\n",
       "      <td>94680</td>\n",
       "      <td>49979</td>\n",
       "      <td>4229166</td>\n",
       "      <td>2849538</td>\n",
       "      <td>2300000</td>\n",
       "    </tr>\n",
       "  </tbody>\n",
       "</table>\n",
       "</div>"
      ],
      "text/plain": [
       "       Rank  Revenue_$M  Revenue_change%  Profits_$M  Profits_change%  \\\n",
       "count  1000        1000             1000        1000             1000   \n",
       "mean    500       17987               30        2020               59   \n",
       "std     289       40813               99        6413             6093   \n",
       "min       1        2107              -74       -6520          -177496   \n",
       "25%     251        3501                6         192                0   \n",
       "50%     500        6376               16         570               17   \n",
       "75%     750       14616               31        1490               78   \n",
       "max    1000      572754             2199       94680            49979   \n",
       "\n",
       "       Assets_$M  Market_Value_$M  Employees  \n",
       "count       1000             1000       1000  \n",
       "mean       60632            44803      35759  \n",
       "std       264239           160080     104607  \n",
       "min          414                0        160  \n",
       "25%         4907             4378       6499  \n",
       "50%        11734            11774      13528  \n",
       "75%        32239            34069      28850  \n",
       "max      4229166          2849538    2300000  "
      ]
     },
     "execution_count": 31,
     "metadata": {},
     "output_type": "execute_result"
    }
   ],
   "source": [
    "fortune_1000_df.describe()"
   ]
  },
  {
   "cell_type": "markdown",
   "metadata": {},
   "source": [
    "The `fortune_1000_df` is Prepared and Cleaned"
   ]
  },
  {
   "cell_type": "markdown",
   "metadata": {},
   "source": [
    "### Merge Datasets\n",
    "> - The additional dataset contains Company Type - Private / Public\n",
    "> - Merge new dataset with cleaned `fortune_1000_df` dataset "
   ]
  },
  {
   "cell_type": "code",
   "execution_count": 32,
   "metadata": {},
   "outputs": [
    {
     "data": {
      "text/plain": [
       "('company_type.csv', <http.client.HTTPMessage at 0x7f3047964760>)"
      ]
     },
     "execution_count": 32,
     "metadata": {},
     "output_type": "execute_result"
    }
   ],
   "source": [
    "url_2 = \"https://github.com/Shrutinagar/fortune_1000_companies/raw/main/company_type.csv\"\n",
    "urlretrieve(url_2, \"company_type.csv\")"
   ]
  },
  {
   "cell_type": "code",
   "execution_count": 33,
   "metadata": {},
   "outputs": [],
   "source": [
    "# read the retrieved csv file\n",
    "type_df = pd.read_csv(\"company_type.csv\")"
   ]
  },
  {
   "cell_type": "code",
   "execution_count": 34,
   "metadata": {
    "scrolled": true
   },
   "outputs": [
    {
     "data": {
      "text/html": [
       "<div>\n",
       "<style scoped>\n",
       "    .dataframe tbody tr th:only-of-type {\n",
       "        vertical-align: middle;\n",
       "    }\n",
       "\n",
       "    .dataframe tbody tr th {\n",
       "        vertical-align: top;\n",
       "    }\n",
       "\n",
       "    .dataframe thead th {\n",
       "        text-align: right;\n",
       "    }\n",
       "</style>\n",
       "<table border=\"1\" class=\"dataframe\">\n",
       "  <thead>\n",
       "    <tr style=\"text-align: right;\">\n",
       "      <th></th>\n",
       "      <th>Company_Name</th>\n",
       "      <th>Type</th>\n",
       "    </tr>\n",
       "  </thead>\n",
       "  <tbody>\n",
       "    <tr>\n",
       "      <th>0</th>\n",
       "      <td>Walmart</td>\n",
       "      <td>Public</td>\n",
       "    </tr>\n",
       "    <tr>\n",
       "      <th>1</th>\n",
       "      <td>Amazon</td>\n",
       "      <td>Public</td>\n",
       "    </tr>\n",
       "  </tbody>\n",
       "</table>\n",
       "</div>"
      ],
      "text/plain": [
       "  Company_Name    Type\n",
       "0      Walmart  Public\n",
       "1       Amazon  Public"
      ]
     },
     "execution_count": 34,
     "metadata": {},
     "output_type": "execute_result"
    }
   ],
   "source": [
    "type_df.head(2)"
   ]
  },
  {
   "cell_type": "code",
   "execution_count": 35,
   "metadata": {},
   "outputs": [
    {
     "data": {
      "text/html": [
       "<div>\n",
       "<style scoped>\n",
       "    .dataframe tbody tr th:only-of-type {\n",
       "        vertical-align: middle;\n",
       "    }\n",
       "\n",
       "    .dataframe tbody tr th {\n",
       "        vertical-align: top;\n",
       "    }\n",
       "\n",
       "    .dataframe thead th {\n",
       "        text-align: right;\n",
       "    }\n",
       "</style>\n",
       "<table border=\"1\" class=\"dataframe\">\n",
       "  <thead>\n",
       "    <tr style=\"text-align: right;\">\n",
       "      <th></th>\n",
       "      <th>Rank</th>\n",
       "      <th>Company_Name</th>\n",
       "      <th>Revenue_$M</th>\n",
       "      <th>Revenue_change%</th>\n",
       "      <th>Profits_$M</th>\n",
       "      <th>Profits_change%</th>\n",
       "      <th>Assets_$M</th>\n",
       "      <th>Market_Value_$M</th>\n",
       "      <th>Employees</th>\n",
       "      <th>Type</th>\n",
       "    </tr>\n",
       "  </thead>\n",
       "  <tbody>\n",
       "    <tr>\n",
       "      <th>0</th>\n",
       "      <td>1</td>\n",
       "      <td>Walmart</td>\n",
       "      <td>572754</td>\n",
       "      <td>2</td>\n",
       "      <td>13673</td>\n",
       "      <td>1</td>\n",
       "      <td>244860</td>\n",
       "      <td>409795</td>\n",
       "      <td>2300000</td>\n",
       "      <td>Public</td>\n",
       "    </tr>\n",
       "    <tr>\n",
       "      <th>1</th>\n",
       "      <td>2</td>\n",
       "      <td>Amazon</td>\n",
       "      <td>469822</td>\n",
       "      <td>22</td>\n",
       "      <td>33364</td>\n",
       "      <td>56</td>\n",
       "      <td>420549</td>\n",
       "      <td>1658807</td>\n",
       "      <td>1608000</td>\n",
       "      <td>Public</td>\n",
       "    </tr>\n",
       "    <tr>\n",
       "      <th>2</th>\n",
       "      <td>3</td>\n",
       "      <td>Apple</td>\n",
       "      <td>365817</td>\n",
       "      <td>33</td>\n",
       "      <td>94680</td>\n",
       "      <td>65</td>\n",
       "      <td>351002</td>\n",
       "      <td>2849538</td>\n",
       "      <td>154000</td>\n",
       "      <td>Public</td>\n",
       "    </tr>\n",
       "    <tr>\n",
       "      <th>3</th>\n",
       "      <td>4</td>\n",
       "      <td>CVS Health</td>\n",
       "      <td>292111</td>\n",
       "      <td>9</td>\n",
       "      <td>7910</td>\n",
       "      <td>10</td>\n",
       "      <td>232999</td>\n",
       "      <td>132839</td>\n",
       "      <td>258000</td>\n",
       "      <td>Public</td>\n",
       "    </tr>\n",
       "    <tr>\n",
       "      <th>4</th>\n",
       "      <td>5</td>\n",
       "      <td>UnitedHealth Group</td>\n",
       "      <td>287597</td>\n",
       "      <td>12</td>\n",
       "      <td>17285</td>\n",
       "      <td>12</td>\n",
       "      <td>212206</td>\n",
       "      <td>479830</td>\n",
       "      <td>350000</td>\n",
       "      <td>Public</td>\n",
       "    </tr>\n",
       "  </tbody>\n",
       "</table>\n",
       "</div>"
      ],
      "text/plain": [
       "   Rank        Company_Name  Revenue_$M  Revenue_change%  Profits_$M  \\\n",
       "0     1             Walmart      572754                2       13673   \n",
       "1     2              Amazon      469822               22       33364   \n",
       "2     3               Apple      365817               33       94680   \n",
       "3     4          CVS Health      292111                9        7910   \n",
       "4     5  UnitedHealth Group      287597               12       17285   \n",
       "\n",
       "   Profits_change%  Assets_$M  Market_Value_$M  Employees    Type  \n",
       "0                1     244860           409795    2300000  Public  \n",
       "1               56     420549          1658807    1608000  Public  \n",
       "2               65     351002          2849538     154000  Public  \n",
       "3               10     232999           132839     258000  Public  \n",
       "4               12     212206           479830     350000  Public  "
      ]
     },
     "execution_count": 35,
     "metadata": {},
     "output_type": "execute_result"
    }
   ],
   "source": [
    "merged_df = fortune_1000_df.merge(type_df, on = \"Company_Name\")\n",
    "merged_df.head()"
   ]
  },
  {
   "cell_type": "markdown",
   "metadata": {},
   "source": [
    "#### Merging Industry_Type dataset\n",
    ">- Merge `fortune_1000_df` and `industry_type_df`"
   ]
  },
  {
   "cell_type": "code",
   "execution_count": 36,
   "metadata": {},
   "outputs": [],
   "source": [
    "url_3 = \"https://github.com/Shrutinagar/fortune_1000_companies/raw/main/Industry_type.csv\"\n",
    "urlretrieve(url_3, \"Industry_Type.csv\")\n",
    "Industry_Type = pd.read_csv(\"Industry_Type.csv\")"
   ]
  },
  {
   "cell_type": "code",
   "execution_count": 37,
   "metadata": {
    "scrolled": true
   },
   "outputs": [
    {
     "data": {
      "text/html": [
       "<div>\n",
       "<style scoped>\n",
       "    .dataframe tbody tr th:only-of-type {\n",
       "        vertical-align: middle;\n",
       "    }\n",
       "\n",
       "    .dataframe tbody tr th {\n",
       "        vertical-align: top;\n",
       "    }\n",
       "\n",
       "    .dataframe thead th {\n",
       "        text-align: right;\n",
       "    }\n",
       "</style>\n",
       "<table border=\"1\" class=\"dataframe\">\n",
       "  <thead>\n",
       "    <tr style=\"text-align: right;\">\n",
       "      <th></th>\n",
       "      <th>Rank</th>\n",
       "      <th>Company_Name</th>\n",
       "      <th>Revenue_$M</th>\n",
       "      <th>Revenue_change%</th>\n",
       "      <th>Profits_$M</th>\n",
       "      <th>Profits_change%</th>\n",
       "      <th>Assets_$M</th>\n",
       "      <th>Market_Value_$M</th>\n",
       "      <th>Employees</th>\n",
       "      <th>Industry_Type</th>\n",
       "    </tr>\n",
       "  </thead>\n",
       "  <tbody>\n",
       "    <tr>\n",
       "      <th>0</th>\n",
       "      <td>1</td>\n",
       "      <td>Walmart</td>\n",
       "      <td>572754</td>\n",
       "      <td>2</td>\n",
       "      <td>13673</td>\n",
       "      <td>1</td>\n",
       "      <td>244860</td>\n",
       "      <td>409795</td>\n",
       "      <td>2300000</td>\n",
       "      <td>Retail</td>\n",
       "    </tr>\n",
       "    <tr>\n",
       "      <th>1</th>\n",
       "      <td>2</td>\n",
       "      <td>Amazon</td>\n",
       "      <td>469822</td>\n",
       "      <td>22</td>\n",
       "      <td>33364</td>\n",
       "      <td>56</td>\n",
       "      <td>420549</td>\n",
       "      <td>1658807</td>\n",
       "      <td>1608000</td>\n",
       "      <td>Retail</td>\n",
       "    </tr>\n",
       "    <tr>\n",
       "      <th>2</th>\n",
       "      <td>3</td>\n",
       "      <td>Apple</td>\n",
       "      <td>365817</td>\n",
       "      <td>33</td>\n",
       "      <td>94680</td>\n",
       "      <td>65</td>\n",
       "      <td>351002</td>\n",
       "      <td>2849538</td>\n",
       "      <td>154000</td>\n",
       "      <td>Technology</td>\n",
       "    </tr>\n",
       "    <tr>\n",
       "      <th>3</th>\n",
       "      <td>4</td>\n",
       "      <td>CVS Health</td>\n",
       "      <td>292111</td>\n",
       "      <td>9</td>\n",
       "      <td>7910</td>\n",
       "      <td>10</td>\n",
       "      <td>232999</td>\n",
       "      <td>132839</td>\n",
       "      <td>258000</td>\n",
       "      <td>Healthcare</td>\n",
       "    </tr>\n",
       "    <tr>\n",
       "      <th>4</th>\n",
       "      <td>5</td>\n",
       "      <td>UnitedHealth Group</td>\n",
       "      <td>287597</td>\n",
       "      <td>12</td>\n",
       "      <td>17285</td>\n",
       "      <td>12</td>\n",
       "      <td>212206</td>\n",
       "      <td>479830</td>\n",
       "      <td>350000</td>\n",
       "      <td>Healthcare</td>\n",
       "    </tr>\n",
       "  </tbody>\n",
       "</table>\n",
       "</div>"
      ],
      "text/plain": [
       "   Rank        Company_Name  Revenue_$M  Revenue_change%  Profits_$M  \\\n",
       "0     1             Walmart      572754                2       13673   \n",
       "1     2              Amazon      469822               22       33364   \n",
       "2     3               Apple      365817               33       94680   \n",
       "3     4          CVS Health      292111                9        7910   \n",
       "4     5  UnitedHealth Group      287597               12       17285   \n",
       "\n",
       "   Profits_change%  Assets_$M  Market_Value_$M  Employees Industry_Type  \n",
       "0                1     244860           409795    2300000        Retail  \n",
       "1               56     420549          1658807    1608000        Retail  \n",
       "2               65     351002          2849538     154000    Technology  \n",
       "3               10     232999           132839     258000    Healthcare  \n",
       "4               12     212206           479830     350000    Healthcare  "
      ]
     },
     "execution_count": 37,
     "metadata": {},
     "output_type": "execute_result"
    }
   ],
   "source": [
    "merged_industry_df = fortune_1000_df.merge(Industry_Type, on = \"Company_Name\")\n",
    "merged_industry_df.head()"
   ]
  },
  {
   "cell_type": "markdown",
   "metadata": {},
   "source": [
    "### Duplicate Dataset for further analysis"
   ]
  },
  {
   "cell_type": "code",
   "execution_count": 38,
   "metadata": {},
   "outputs": [],
   "source": [
    "fortune_1000_df2 = fortune_1000_df.copy()"
   ]
  },
  {
   "cell_type": "markdown",
   "metadata": {},
   "source": [
    "### Saving Cleaned Dataset\n",
    "to a new CSV file"
   ]
  },
  {
   "cell_type": "code",
   "execution_count": 39,
   "metadata": {},
   "outputs": [],
   "source": [
    "fortune_1000_df.to_csv(\"cleaned_dataset.csv\", index = False)"
   ]
  },
  {
   "cell_type": "markdown",
   "metadata": {},
   "source": [
    "## Exploratory Analysis and Visualization\n",
    "\n",
    "> - Compute the mean, sum, range and other interesting statistics for numeric columns\n",
    "> - Distributions of numeric columns using heatmap.\n",
    "> - Relationship between columns using scatter plots, barplots etc.\n",
    "> - Note of interesting insights from the exploratory analysis"
   ]
  },
  {
   "cell_type": "markdown",
   "metadata": {},
   "source": [
    "The python libraries required for Visualization are `Matplotlib` and `Seaborn`"
   ]
  },
  {
   "cell_type": "markdown",
   "metadata": {},
   "source": [
    "#### Default Styling\n",
    "\n",
    "> `rcParams` : It's a dictionary of most **matplotlib styling** that we can set at the start it will be applied to all the plots."
   ]
  },
  {
   "cell_type": "code",
   "execution_count": 42,
   "metadata": {},
   "outputs": [],
   "source": [
    "sns.set_style('white')\n",
    "mpl.rcParams['font.size'] = 10\n",
    "mpl.rcParams['figure.figsize'] = (10, 7)\n",
    "mpl.rcParams['figure.facecolor'] = '#00000000'"
   ]
  },
  {
   "cell_type": "markdown",
   "metadata": {
    "scrolled": true
   },
   "source": [
    "### Correlation Between Revenue and Profit"
   ]
  },
  {
   "cell_type": "markdown",
   "metadata": {},
   "source": [
    ">- Revenue v/s Profit - scatterplot\n",
    ">- hue - Company_Name"
   ]
  },
  {
   "cell_type": "code",
   "execution_count": 43,
   "metadata": {
    "scrolled": true
   },
   "outputs": [
    {
     "name": "stdout",
     "output_type": "stream",
     "text": [
      "Correlation: Revenue v/s Profit\n"
     ]
    },
    {
     "data": {
      "image/png": "[encoded data removed]",
      "text/plain": [
       "<Figure size 1080x288 with 2 Axes>"
      ]
     },
     "metadata": {
      "needs_background": "light"
     },
     "output_type": "display_data"
    }
   ],
   "source": [
    "fig, axes = plt.subplots(1,2, figsize = (15,4))\n",
    "print(\"Correlation: Revenue v/s Profit\")\n",
    "axes[0].set_title(\"TOP 500\")\n",
    "sns.scatterplot(x = \"Revenue_$M\", y = \"Profits_$M\", hue = \"Company_Name\", data = fortune_1000_df2.head(500),\n",
    "               legend= None, s = 40, ax = axes[0]);\n",
    "\n",
    "axes[1].set_title(\"BOTTOM 500\")\n",
    "sns.scatterplot(x = \"Revenue_$M\", y = \"Profits_$M\", hue = \"Company_Name\", data = fortune_1000_df2.tail(500),\n",
    "               legend= None, s = 40, ax = axes[1]);"
   ]
  },
  {
   "cell_type": "markdown",
   "metadata": {},
   "source": [
    "> The above analysis shows that\n",
    "\n",
    "**TOP 500 Companies**: Most Companies has `positive correlation` between Revenue and Profit in year 2022\n",
    "\n",
    "**BOTTOM 500 Companies**: Over 70% company's profits lie between -1000 and 1500 Million $"
   ]
  },
  {
   "cell_type": "markdown",
   "metadata": {},
   "source": [
    "### Top 10 Companies Analysis"
   ]
  },
  {
   "cell_type": "markdown",
   "metadata": {},
   "source": [
    "> Creating a subplot which will include\n",
    "\n",
    "Top 10 companies by Highest Revenue, Profits, Assets, Market_Value and Employees"
   ]
  },
  {
   "cell_type": "code",
   "execution_count": 44,
   "metadata": {},
   "outputs": [],
   "source": [
    "profit = fortune_1000_df2.nlargest(10, \"Profits_$M\")\n",
    "revenue = fortune_1000_df2.nlargest(10, \"Revenue_$M\")\n",
    "asset = fortune_1000_df2.nlargest(10, \"Assets_$M\")\n",
    "market_value = fortune_1000_df2.nlargest(10, \"Market_Value_$M\")\n",
    "employees = fortune_1000_df2.nlargest(10, \"Employees\")"
   ]
  },
  {
   "cell_type": "code",
   "execution_count": 45,
   "metadata": {
    "scrolled": true
   },
   "outputs": [
    {
     "data": {
      "image/png": "[encoded data removed]",
      "text/plain": [
       "<Figure size 1080x1440 with 5 Axes>"
      ]
     },
     "metadata": {
      "needs_background": "light"
     },
     "output_type": "display_data"
    }
   ],
   "source": [
    "fig, axes = plt.subplots(5,1, figsize = (15,20))\n",
    "\n",
    "# Revenue\n",
    "axes[0].set_title(\"Top 10 Companies with Highest Revenue\", fontsize = 16)\n",
    "sns.barplot(x = 'Company_Name', \n",
    "            y = 'Revenue_$M', \n",
    "            data = revenue,\n",
    "            palette = \"tab20b\",\n",
    "            ax = axes[0]);\n",
    "# Profits\n",
    "axes[1].set_title(\"Top 10 Companies with Highest Profit\", fontsize = 16)\n",
    "sns.barplot(x = 'Company_Name', \n",
    "            y = 'Profits_$M', \n",
    "            data = profit,\n",
    "            palette = \"tab20b\",\n",
    "            ax = axes[1]);\n",
    "# Assets\n",
    "axes[2].set_title(\"Top 10 Companies with Highest Assets\", fontsize = 16)\n",
    "sns.barplot(x = 'Company_Name', \n",
    "            y = 'Assets_$M', \n",
    "            data = asset, \n",
    "            palette = \"tab20b\",\n",
    "            ax = axes[2]);\n",
    "# Market Value\n",
    "axes[3].set_title(\"Top 10 Companies with Highest Market Value\", fontsize = 16)\n",
    "sns.barplot(x = 'Company_Name', \n",
    "            y = 'Market_Value_$M', \n",
    "            data = market_value, \n",
    "            palette = \"tab20b\",\n",
    "            ax = axes[3]);\n",
    "# Employees\n",
    "axes[4].set_title(\"Top 10 Companies with Highest Number of Employees\", fontsize = 16)\n",
    "sns.barplot(x = 'Company_Name', \n",
    "            y = 'Employees', \n",
    "            data = employees,\n",
    "            palette = \"tab20b\",\n",
    "            ax = axes[4]);\n",
    "\n",
    "plt.subplots_adjust(hspace=0.5)"
   ]
  },
  {
   "cell_type": "markdown",
   "metadata": {},
   "source": [
    "> The above analysis shows that :\n",
    "- `Birkshire Hathaway` has been at the top in all the criterias for the year 2022\n",
    "- `Amazon` - Revenue, Profit, Market Value and also has over 1.5 million Employees\n",
    "- `Walmart` has Maximum Revenue and over 2 million Employees"
   ]
  },
  {
   "cell_type": "markdown",
   "metadata": {},
   "source": [
    "- Total Revenue by TOP 10 Companies"
   ]
  },
  {
   "cell_type": "code",
   "execution_count": 46,
   "metadata": {},
   "outputs": [
    {
     "name": "stdout",
     "output_type": "stream",
     "text": [
      "Total Revenue: 3259.689 Billion $\n"
     ]
    }
   ],
   "source": [
    "Total_Revenue = revenue[\"Revenue_$M\"].sum()/1000\n",
    "print(\"Total Revenue: {} Billion $\".format(Total_Revenue))"
   ]
  },
  {
   "cell_type": "markdown",
   "metadata": {},
   "source": [
    "- Average Profit by TOP 10 Companies"
   ]
  },
  {
   "cell_type": "code",
   "execution_count": 47,
   "metadata": {},
   "outputs": [
    {
     "name": "stdout",
     "output_type": "stream",
     "text": [
      "Average Profit: 52 Billion $\n"
     ]
    }
   ],
   "source": [
    "Avg_Profit = profit[\"Profits_$M\"].sum()/(10*1000)\n",
    "print(\"Average Profit: {} Billion $\".format(int(Avg_Profit)))"
   ]
  },
  {
   "cell_type": "markdown",
   "metadata": {},
   "source": [
    "### Pie Chart - Sector"
   ]
  },
  {
   "cell_type": "markdown",
   "metadata": {},
   "source": [
    "> Using `groupby` to count number of companies in each category"
   ]
  },
  {
   "cell_type": "code",
   "execution_count": 48,
   "metadata": {},
   "outputs": [],
   "source": [
    "sector = merged_df.groupby(\"Type\")[[\"Company_Name\"]].count()"
   ]
  },
  {
   "cell_type": "code",
   "execution_count": 49,
   "metadata": {
    "scrolled": true
   },
   "outputs": [
    {
     "data": {
      "text/html": [
       "<div>\n",
       "<style scoped>\n",
       "    .dataframe tbody tr th:only-of-type {\n",
       "        vertical-align: middle;\n",
       "    }\n",
       "\n",
       "    .dataframe tbody tr th {\n",
       "        vertical-align: top;\n",
       "    }\n",
       "\n",
       "    .dataframe thead th {\n",
       "        text-align: right;\n",
       "    }\n",
       "</style>\n",
       "<table border=\"1\" class=\"dataframe\">\n",
       "  <thead>\n",
       "    <tr style=\"text-align: right;\">\n",
       "      <th></th>\n",
       "      <th>Company_Name</th>\n",
       "    </tr>\n",
       "    <tr>\n",
       "      <th>Type</th>\n",
       "      <th></th>\n",
       "    </tr>\n",
       "  </thead>\n",
       "  <tbody>\n",
       "    <tr>\n",
       "      <th>Private</th>\n",
       "      <td>45</td>\n",
       "    </tr>\n",
       "    <tr>\n",
       "      <th>Public</th>\n",
       "      <td>955</td>\n",
       "    </tr>\n",
       "  </tbody>\n",
       "</table>\n",
       "</div>"
      ],
      "text/plain": [
       "         Company_Name\n",
       "Type                 \n",
       "Private            45\n",
       "Public            955"
      ]
     },
     "execution_count": 49,
     "metadata": {},
     "output_type": "execute_result"
    }
   ],
   "source": [
    "sector"
   ]
  },
  {
   "cell_type": "code",
   "execution_count": 50,
   "metadata": {
    "scrolled": false
   },
   "outputs": [
    {
     "data": {
      "image/png": "[encoded data removed]",
      "text/plain": [
       "<Figure size 432x432 with 1 Axes>"
      ]
     },
     "metadata": {},
     "output_type": "display_data"
    }
   ],
   "source": [
    "plt.figure(figsize = (6,6))\n",
    "plt.title(\"Sector\", fontsize = 16)\n",
    "plt.pie(sector.Company_Name,\n",
    "       labels = sector.index,\n",
    "       autopct = '%.1f%%',\n",
    "       wedgeprops = {'linewidth': 0.5, 'edgecolor': 'white'},\n",
    "       textprops={'size': 'large'},\n",
    "       colors = [\"#4f8fc6\", \"#2b5d87\"],\n",
    "       explode=(0.1,0));\n"
   ]
  },
  {
   "cell_type": "markdown",
   "metadata": {},
   "source": [
    "> The above analysis shows that:\n",
    "\n",
    "The analysis allows to determine `Public Sector` dominates the Fortune 1000 list\n",
    "\n",
    "In the year 2022 only 45 or 4.5% of total companies made to Fortune 1000"
   ]
  },
  {
   "cell_type": "markdown",
   "metadata": {},
   "source": [
    "### Heatmap"
   ]
  },
  {
   "cell_type": "markdown",
   "metadata": {},
   "source": [
    "> Identifying private sector Company's profits using Heatmap"
   ]
  },
  {
   "cell_type": "code",
   "execution_count": 51,
   "metadata": {},
   "outputs": [],
   "source": [
    "private_sector_df = merged_df[merged_df[\"Type\"]==\"Private\"]"
   ]
  },
  {
   "cell_type": "code",
   "execution_count": 52,
   "metadata": {
    "scrolled": true
   },
   "outputs": [
    {
     "data": {
      "text/html": [
       "<div>\n",
       "<style scoped>\n",
       "    .dataframe tbody tr th:only-of-type {\n",
       "        vertical-align: middle;\n",
       "    }\n",
       "\n",
       "    .dataframe tbody tr th {\n",
       "        vertical-align: top;\n",
       "    }\n",
       "\n",
       "    .dataframe thead th {\n",
       "        text-align: right;\n",
       "    }\n",
       "</style>\n",
       "<table border=\"1\" class=\"dataframe\">\n",
       "  <thead>\n",
       "    <tr style=\"text-align: right;\">\n",
       "      <th></th>\n",
       "      <th>Profits_$M</th>\n",
       "    </tr>\n",
       "    <tr>\n",
       "      <th>Company_Name</th>\n",
       "      <th></th>\n",
       "    </tr>\n",
       "  </thead>\n",
       "  <tbody>\n",
       "    <tr>\n",
       "      <th>New York Life Insurance</th>\n",
       "      <td>277</td>\n",
       "    </tr>\n",
       "    <tr>\n",
       "      <th>Publix Super Markets</th>\n",
       "      <td>4412</td>\n",
       "    </tr>\n",
       "    <tr>\n",
       "      <th>Liberty Mutual Insurance Group</th>\n",
       "      <td>3068</td>\n",
       "    </tr>\n",
       "    <tr>\n",
       "      <th>Nationwide</th>\n",
       "      <td>1617</td>\n",
       "    </tr>\n",
       "    <tr>\n",
       "      <th>TIAA</th>\n",
       "      <td>4061</td>\n",
       "    </tr>\n",
       "    <tr>\n",
       "      <th>USAA</th>\n",
       "      <td>3300</td>\n",
       "    </tr>\n",
       "    <tr>\n",
       "      <th>Northwestern Mutual</th>\n",
       "      <td>978</td>\n",
       "    </tr>\n",
       "    <tr>\n",
       "      <th>Massachusetts Mutual Life Insurance</th>\n",
       "      <td>319</td>\n",
       "    </tr>\n",
       "    <tr>\n",
       "      <th>HF Sinclair</th>\n",
       "      <td>558</td>\n",
       "    </tr>\n",
       "    <tr>\n",
       "      <th>American Family Insurance Group</th>\n",
       "      <td>735</td>\n",
       "    </tr>\n",
       "    <tr>\n",
       "      <th>Jones Financial (Edward Jones)</th>\n",
       "      <td>1605</td>\n",
       "    </tr>\n",
       "    <tr>\n",
       "      <th>Peter Kiewit Sons'</th>\n",
       "      <td>753</td>\n",
       "    </tr>\n",
       "    <tr>\n",
       "      <th>Mutual of Omaha Insurance</th>\n",
       "      <td>579</td>\n",
       "    </tr>\n",
       "    <tr>\n",
       "      <th>Auto-Owners Insurance</th>\n",
       "      <td>1318</td>\n",
       "    </tr>\n",
       "    <tr>\n",
       "      <th>Thrivent Financial for Lutherans</th>\n",
       "      <td>2530</td>\n",
       "    </tr>\n",
       "    <tr>\n",
       "      <th>Erie Insurance Group</th>\n",
       "      <td>1130</td>\n",
       "    </tr>\n",
       "    <tr>\n",
       "      <th>Western &amp; Southern Financial Group</th>\n",
       "      <td>361</td>\n",
       "    </tr>\n",
       "    <tr>\n",
       "      <th>Jackson Financial</th>\n",
       "      <td>3183</td>\n",
       "    </tr>\n",
       "    <tr>\n",
       "      <th>Graybar Electric</th>\n",
       "      <td>262</td>\n",
       "    </tr>\n",
       "    <tr>\n",
       "      <th>Concentrix</th>\n",
       "      <td>406</td>\n",
       "    </tr>\n",
       "    <tr>\n",
       "      <th>CUNA Mutual Group</th>\n",
       "      <td>622</td>\n",
       "    </tr>\n",
       "    <tr>\n",
       "      <th>TPG</th>\n",
       "      <td>2181</td>\n",
       "    </tr>\n",
       "    <tr>\n",
       "      <th>Penn Mutual Life Insurance</th>\n",
       "      <td>523</td>\n",
       "    </tr>\n",
       "    <tr>\n",
       "      <th>Sentry Insurance Group</th>\n",
       "      <td>740</td>\n",
       "    </tr>\n",
       "    <tr>\n",
       "      <th>Bread Financial Holdings</th>\n",
       "      <td>801</td>\n",
       "    </tr>\n",
       "    <tr>\n",
       "      <th>Bright Health Group</th>\n",
       "      <td>-1185</td>\n",
       "    </tr>\n",
       "    <tr>\n",
       "      <th>Country Financial</th>\n",
       "      <td>419</td>\n",
       "    </tr>\n",
       "    <tr>\n",
       "      <th>loanDepot</th>\n",
       "      <td>114</td>\n",
       "    </tr>\n",
       "    <tr>\n",
       "      <th>APi Group</th>\n",
       "      <td>47</td>\n",
       "    </tr>\n",
       "    <tr>\n",
       "      <th>Enovis</th>\n",
       "      <td>72</td>\n",
       "    </tr>\n",
       "    <tr>\n",
       "      <th>Advantage Solutions</th>\n",
       "      <td>55</td>\n",
       "    </tr>\n",
       "    <tr>\n",
       "      <th>Medical Mutual of Ohio</th>\n",
       "      <td>78</td>\n",
       "    </tr>\n",
       "    <tr>\n",
       "      <th>Coterra Energy</th>\n",
       "      <td>1158</td>\n",
       "    </tr>\n",
       "    <tr>\n",
       "      <th>NLV Financial</th>\n",
       "      <td>392</td>\n",
       "    </tr>\n",
       "    <tr>\n",
       "      <th>Light &amp; Wonder</th>\n",
       "      <td>371</td>\n",
       "    </tr>\n",
       "    <tr>\n",
       "      <th>Alight</th>\n",
       "      <td>-60</td>\n",
       "    </tr>\n",
       "    <tr>\n",
       "      <th>Univision Communciations</th>\n",
       "      <td>134</td>\n",
       "    </tr>\n",
       "    <tr>\n",
       "      <th>AppLovin</th>\n",
       "      <td>35</td>\n",
       "    </tr>\n",
       "    <tr>\n",
       "      <th>Mutual of America Life Insurance</th>\n",
       "      <td>51</td>\n",
       "    </tr>\n",
       "    <tr>\n",
       "      <th>Amica Mutual Insurance</th>\n",
       "      <td>117</td>\n",
       "    </tr>\n",
       "    <tr>\n",
       "      <th>Federated Mutual Insurance</th>\n",
       "      <td>320</td>\n",
       "    </tr>\n",
       "    <tr>\n",
       "      <th>Liberty Energy</th>\n",
       "      <td>-179</td>\n",
       "    </tr>\n",
       "    <tr>\n",
       "      <th>Knights of Columbus</th>\n",
       "      <td>130</td>\n",
       "    </tr>\n",
       "    <tr>\n",
       "      <th>MillerKnoll</th>\n",
       "      <td>173</td>\n",
       "    </tr>\n",
       "    <tr>\n",
       "      <th>Ohio National Mutual</th>\n",
       "      <td>-85</td>\n",
       "    </tr>\n",
       "  </tbody>\n",
       "</table>\n",
       "</div>"
      ],
      "text/plain": [
       "                                     Profits_$M\n",
       "Company_Name                                   \n",
       "New York Life Insurance                     277\n",
       "Publix Super Markets                       4412\n",
       "Liberty Mutual Insurance Group             3068\n",
       "Nationwide                                 1617\n",
       "TIAA                                       4061\n",
       "USAA                                       3300\n",
       "Northwestern Mutual                         978\n",
       "Massachusetts Mutual Life Insurance         319\n",
       "HF Sinclair                                 558\n",
       "American Family Insurance Group             735\n",
       "Jones Financial (Edward Jones)             1605\n",
       "Peter Kiewit Sons'                          753\n",
       "Mutual of Omaha Insurance                   579\n",
       "Auto-Owners Insurance                      1318\n",
       "Thrivent Financial for Lutherans           2530\n",
       "Erie Insurance Group                       1130\n",
       "Western & Southern Financial Group          361\n",
       "Jackson Financial                          3183\n",
       "Graybar Electric                            262\n",
       "Concentrix                                  406\n",
       "CUNA Mutual Group                           622\n",
       "TPG                                        2181\n",
       "Penn Mutual Life Insurance                  523\n",
       "Sentry Insurance Group                      740\n",
       "Bread Financial Holdings                    801\n",
       "Bright Health Group                       -1185\n",
       "Country Financial                           419\n",
       "loanDepot                                   114\n",
       "APi Group                                    47\n",
       "Enovis                                       72\n",
       "Advantage Solutions                          55\n",
       "Medical Mutual of Ohio                       78\n",
       "Coterra Energy                             1158\n",
       "NLV Financial                               392\n",
       "Light & Wonder                              371\n",
       "Alight                                      -60\n",
       "Univision Communciations                    134\n",
       "AppLovin                                     35\n",
       "Mutual of America Life Insurance             51\n",
       "Amica Mutual Insurance                      117\n",
       "Federated Mutual Insurance                  320\n",
       "Liberty Energy                             -179\n",
       "Knights of Columbus                         130\n",
       "MillerKnoll                                 173\n",
       "Ohio National Mutual                        -85"
      ]
     },
     "execution_count": 52,
     "metadata": {},
     "output_type": "execute_result"
    }
   ],
   "source": [
    "private_df = private_sector_df[[\"Company_Name\", \"Profits_$M\"]].set_index(\"Company_Name\")\n",
    "private_df"
   ]
  },
  {
   "cell_type": "code",
   "execution_count": 53,
   "metadata": {
    "scrolled": true
   },
   "outputs": [
    {
     "data": {
      "image/png": "[encoded data removed]",
      "text/plain": [
       "<Figure size 648x864 with 2 Axes>"
      ]
     },
     "metadata": {
      "needs_background": "light"
     },
     "output_type": "display_data"
    }
   ],
   "source": [
    "plt.figure(figsize = (9,12))\n",
    "sns.heatmap(private_df, cmap = \"bone\");"
   ]
  },
  {
   "cell_type": "markdown",
   "metadata": {},
   "source": [
    "> The above analysis shows that :\n",
    "\n",
    "Bright Health Group** has gone into loss of over 1000 million $.\n",
    "\n",
    "Publix Super Markets** has highest profit of over 4000 million $."
   ]
  },
  {
   "cell_type": "markdown",
   "metadata": {},
   "source": [
    "## Asking and Answering Questions\n",
    "\n",
    "> - Computing the results using Pandas or by plotting graphs using Matplotlib/Seaborn\n",
    "> - Creating New columns, merging dataset(Sector type & Industry type), Grouping/Aggregation etc\n",
    "> - Dipicting relation between various factors like : Profit/Revenue, Assets/Market_Value, etc.\n",
    "> - Defining python libraries"
   ]
  },
  {
   "cell_type": "markdown",
   "metadata": {},
   "source": [
    "### Python Libraries"
   ]
  },
  {
   "cell_type": "markdown",
   "metadata": {},
   "source": [
    "> Pandas\n",
    "\n",
    "Pandas is Python library, it is used to work with big datasets. It has functions for analyzing, cleaning, exploring, and manipulating data. Pandas has various in_built functions like : df.sort_values, df.loc, df.duplicated, pd.to_datetime, df.corr,pd.read_csv , etc."
   ]
  },
  {
   "cell_type": "markdown",
   "metadata": {},
   "source": [
    "> Matplotlib\n",
    "\n",
    "Matplotlib is a 2-D graph plotting library in Python, we can can create various visualizations using matplotlib like : .hist for histogram, .pie for piechart, .plot for line chart, .bar for bar chart"
   ]
  },
  {
   "cell_type": "markdown",
   "metadata": {},
   "source": [
    "> Seaborn\n",
    "\n",
    "Seaborn is a library that uses Matplotlib underneath to plot graphs. It can be used to visualize random distributions.\n",
    "Some examples of plots are like : sns.barplot, sns.heatmap, sns.scatterplot"
   ]
  },
  {
   "cell_type": "markdown",
   "metadata": {},
   "source": [
    "### QUES 1\n",
    "> Find the Company that made the highest profit in 2022"
   ]
  },
  {
   "cell_type": "code",
   "execution_count": 56,
   "metadata": {},
   "outputs": [
    {
     "data": {
      "text/plain": [
       "94680"
      ]
     },
     "execution_count": 56,
     "metadata": {},
     "output_type": "execute_result"
    }
   ],
   "source": [
    "max_profit = fortune_1000_df2[\"Profits_$M\"].max()\n",
    "max_profit"
   ]
  },
  {
   "cell_type": "code",
   "execution_count": 57,
   "metadata": {},
   "outputs": [
    {
     "name": "stdout",
     "output_type": "stream",
     "text": [
      "Apple\n"
     ]
    }
   ],
   "source": [
    "company = fortune_1000_df2[fortune_1000_df2[\"Profits_$M\"] == max_profit][\"Company_Name\"].values[0]\n",
    "print(company)"
   ]
  },
  {
   "cell_type": "code",
   "execution_count": 58,
   "metadata": {},
   "outputs": [
    {
     "name": "stdout",
     "output_type": "stream",
     "text": [
      "Company that made highest profit of 94.68 Billion $ in the Year 2022 is : Apple\n"
     ]
    }
   ],
   "source": [
    "print(\"Company that made highest profit of {} Billion $ in the Year 2022 is : {}\".format(max_profit/1000, company))"
   ]
  },
  {
   "cell_type": "markdown",
   "metadata": {},
   "source": [
    "### QUES 2\n",
    "> Is there a correlation between the rank of a company in the list and its revenue?"
   ]
  },
  {
   "cell_type": "code",
   "execution_count": 59,
   "metadata": {},
   "outputs": [
    {
     "data": {
      "image/png": "[encoded data removed]",
      "text/plain": [
       "<Figure size 936x288 with 1 Axes>"
      ]
     },
     "metadata": {
      "needs_background": "light"
     },
     "output_type": "display_data"
    }
   ],
   "source": [
    "plt.figure(figsize = (13,4))\n",
    "plt.title(\"Rank v/s Revenue\", fontsize = 16)\n",
    "sns.scatterplot(x = \"Rank\",\n",
    "               y = \"Revenue_$M\",\n",
    "               hue = \"Company_Name\",\n",
    "               data = fortune_1000_df2,\n",
    "               legend = None,\n",
    "               s = 20);"
   ]
  },
  {
   "cell_type": "markdown",
   "metadata": {},
   "source": [
    "There is a `Negative Correlation` between Rank and Revenue\n",
    "\n",
    "With Increasing Rank there is a Decrease in Revenue"
   ]
  },
  {
   "cell_type": "markdown",
   "metadata": {},
   "source": [
    "### QUES 3\n",
    "> Show the trend between `Revenue_change%` and `Profits_change%` for Fortune 500 companies"
   ]
  },
  {
   "cell_type": "code",
   "execution_count": 60,
   "metadata": {},
   "outputs": [],
   "source": [
    "Fortune_500 = fortune_1000_df2.head(500)"
   ]
  },
  {
   "cell_type": "code",
   "execution_count": 61,
   "metadata": {},
   "outputs": [
    {
     "data": {
      "image/png": "[encoded data removed]",
      "text/plain": [
       "<Figure size 1080x360 with 1 Axes>"
      ]
     },
     "metadata": {},
     "output_type": "display_data"
    }
   ],
   "source": [
    "sns.set_style(\"darkgrid\")\n",
    "plt.figure(figsize = (15,5))\n",
    "plt.title(\"Trend Analysis - Chnage in Profits & Revenue\", fontsize = 16)\n",
    "plt.xlabel(\"Rank\", fontsize = 12)\n",
    "plt.ylabel(\"Change\", fontsize = 12)\n",
    "plt.plot(Fortune_500.Rank, Fortune_500[\"Revenue_change%\"], c = \"red\")\n",
    "plt.plot(Fortune_500.Rank, Fortune_500[\"Profits_change%\"], c = \"navy\", alpha = 0.7)\n",
    "plt.legend([\"Revenue\", \"Profits\"]);"
   ]
  },
  {
   "cell_type": "markdown",
   "metadata": {},
   "source": [
    "### QUES 4\n",
    "> Find 5 Industries in Fortune 1000 list made maximum Profit and maximum Loss?"
   ]
  },
  {
   "cell_type": "code",
   "execution_count": 62,
   "metadata": {
    "scrolled": true
   },
   "outputs": [],
   "source": [
    "profits_df = merged_industry_df.groupby(\"Industry_Type\")[[\"Profits_$M\"]].sum().sort_values(\"Profits_$M\", ascending = False)\n",
    "profit_df = profits_df.head(5)\n",
    "loss_df = profits_df.tail(5)"
   ]
  },
  {
   "cell_type": "code",
   "execution_count": 63,
   "metadata": {},
   "outputs": [
    {
     "name": "stdout",
     "output_type": "stream",
     "text": [
      "Industries with Maximum Profit: \n"
     ]
    },
    {
     "data": {
      "text/html": [
       "<div>\n",
       "<style scoped>\n",
       "    .dataframe tbody tr th:only-of-type {\n",
       "        vertical-align: middle;\n",
       "    }\n",
       "\n",
       "    .dataframe tbody tr th {\n",
       "        vertical-align: top;\n",
       "    }\n",
       "\n",
       "    .dataframe thead th {\n",
       "        text-align: right;\n",
       "    }\n",
       "</style>\n",
       "<table border=\"1\" class=\"dataframe\">\n",
       "  <thead>\n",
       "    <tr style=\"text-align: right;\">\n",
       "      <th></th>\n",
       "      <th>Profits_$M</th>\n",
       "    </tr>\n",
       "    <tr>\n",
       "      <th>Industry_Type</th>\n",
       "      <th></th>\n",
       "    </tr>\n",
       "  </thead>\n",
       "  <tbody>\n",
       "    <tr>\n",
       "      <th>Technology</th>\n",
       "      <td>389780</td>\n",
       "    </tr>\n",
       "    <tr>\n",
       "      <th>Financial Services</th>\n",
       "      <td>380233</td>\n",
       "    </tr>\n",
       "    <tr>\n",
       "      <th>Retail</th>\n",
       "      <td>150838</td>\n",
       "    </tr>\n",
       "    <tr>\n",
       "      <th>Energy</th>\n",
       "      <td>118659</td>\n",
       "    </tr>\n",
       "    <tr>\n",
       "      <th>Pharmaceutical</th>\n",
       "      <td>97054</td>\n",
       "    </tr>\n",
       "  </tbody>\n",
       "</table>\n",
       "</div>"
      ],
      "text/plain": [
       "                    Profits_$M\n",
       "Industry_Type                 \n",
       "Technology              389780\n",
       "Financial Services      380233\n",
       "Retail                  150838\n",
       "Energy                  118659\n",
       "Pharmaceutical           97054"
      ]
     },
     "execution_count": 63,
     "metadata": {},
     "output_type": "execute_result"
    }
   ],
   "source": [
    "print(\"Industries with Maximum Profit: \")\n",
    "profit_df"
   ]
  },
  {
   "cell_type": "code",
   "execution_count": 64,
   "metadata": {},
   "outputs": [
    {
     "name": "stdout",
     "output_type": "stream",
     "text": [
      "Industries with Maximum Loss: \n"
     ]
    },
    {
     "data": {
      "text/html": [
       "<div>\n",
       "<style scoped>\n",
       "    .dataframe tbody tr th:only-of-type {\n",
       "        vertical-align: middle;\n",
       "    }\n",
       "\n",
       "    .dataframe tbody tr th {\n",
       "        vertical-align: top;\n",
       "    }\n",
       "\n",
       "    .dataframe thead th {\n",
       "        text-align: right;\n",
       "    }\n",
       "</style>\n",
       "<table border=\"1\" class=\"dataframe\">\n",
       "  <thead>\n",
       "    <tr style=\"text-align: right;\">\n",
       "      <th></th>\n",
       "      <th>Profits_$M</th>\n",
       "    </tr>\n",
       "    <tr>\n",
       "      <th>Industry_Type</th>\n",
       "      <th></th>\n",
       "    </tr>\n",
       "  </thead>\n",
       "  <tbody>\n",
       "    <tr>\n",
       "      <th>Network Security</th>\n",
       "      <td>-499</td>\n",
       "    </tr>\n",
       "    <tr>\n",
       "      <th>Animal Health</th>\n",
       "      <td>-526</td>\n",
       "    </tr>\n",
       "    <tr>\n",
       "      <th>Casino</th>\n",
       "      <td>-961</td>\n",
       "    </tr>\n",
       "    <tr>\n",
       "      <th>Airline</th>\n",
       "      <td>-3061</td>\n",
       "    </tr>\n",
       "    <tr>\n",
       "      <th>Industrial</th>\n",
       "      <td>-3811</td>\n",
       "    </tr>\n",
       "  </tbody>\n",
       "</table>\n",
       "</div>"
      ],
      "text/plain": [
       "                  Profits_$M\n",
       "Industry_Type               \n",
       "Network Security        -499\n",
       "Animal Health           -526\n",
       "Casino                  -961\n",
       "Airline                -3061\n",
       "Industrial             -3811"
      ]
     },
     "execution_count": 64,
     "metadata": {},
     "output_type": "execute_result"
    }
   ],
   "source": [
    "print(\"Industries with Maximum Loss: \")\n",
    "loss_df"
   ]
  },
  {
   "cell_type": "markdown",
   "metadata": {},
   "source": [
    "### QUES 5\n",
    "> Find Highest Market Value as well as Highest Assets in year 2022"
   ]
  },
  {
   "cell_type": "code",
   "execution_count": 65,
   "metadata": {},
   "outputs": [],
   "source": [
    "df = fortune_1000_df2.sort_values([\"Market_Value_$M\", \"Assets_$M\"], axis = 0, ascending = False).head(10)"
   ]
  },
  {
   "cell_type": "code",
   "execution_count": 66,
   "metadata": {
    "scrolled": true
   },
   "outputs": [
    {
     "data": {
      "text/html": [
       "<div>\n",
       "<style scoped>\n",
       "    .dataframe tbody tr th:only-of-type {\n",
       "        vertical-align: middle;\n",
       "    }\n",
       "\n",
       "    .dataframe tbody tr th {\n",
       "        vertical-align: top;\n",
       "    }\n",
       "\n",
       "    .dataframe thead th {\n",
       "        text-align: right;\n",
       "    }\n",
       "</style>\n",
       "<table border=\"1\" class=\"dataframe\">\n",
       "  <thead>\n",
       "    <tr style=\"text-align: right;\">\n",
       "      <th></th>\n",
       "      <th>Company_Name</th>\n",
       "      <th>Market_Value_$M</th>\n",
       "      <th>Assets_$M</th>\n",
       "    </tr>\n",
       "    <tr>\n",
       "      <th>Rank</th>\n",
       "      <th></th>\n",
       "      <th></th>\n",
       "      <th></th>\n",
       "    </tr>\n",
       "  </thead>\n",
       "  <tbody>\n",
       "    <tr>\n",
       "      <th>3</th>\n",
       "      <td>Apple</td>\n",
       "      <td>2849538</td>\n",
       "      <td>351002</td>\n",
       "    </tr>\n",
       "    <tr>\n",
       "      <th>14</th>\n",
       "      <td>Microsoft</td>\n",
       "      <td>2311359</td>\n",
       "      <td>333779</td>\n",
       "    </tr>\n",
       "    <tr>\n",
       "      <th>8</th>\n",
       "      <td>Alphabet</td>\n",
       "      <td>1842326</td>\n",
       "      <td>359268</td>\n",
       "    </tr>\n",
       "    <tr>\n",
       "      <th>2</th>\n",
       "      <td>Amazon</td>\n",
       "      <td>1658807</td>\n",
       "      <td>420549</td>\n",
       "    </tr>\n",
       "    <tr>\n",
       "      <th>65</th>\n",
       "      <td>Tesla</td>\n",
       "      <td>1113708</td>\n",
       "      <td>62131</td>\n",
       "    </tr>\n",
       "    <tr>\n",
       "      <th>339</th>\n",
       "      <td>Auto-Owners Insurance</td>\n",
       "      <td>817000</td>\n",
       "      <td>32487</td>\n",
       "    </tr>\n",
       "    <tr>\n",
       "      <th>7</th>\n",
       "      <td>Berkshire Hathaway</td>\n",
       "      <td>779542</td>\n",
       "      <td>958784</td>\n",
       "    </tr>\n",
       "    <tr>\n",
       "      <th>134</th>\n",
       "      <td>Nvidia</td>\n",
       "      <td>684879</td>\n",
       "      <td>44187</td>\n",
       "    </tr>\n",
       "    <tr>\n",
       "      <th>27</th>\n",
       "      <td>Meta Platforms</td>\n",
       "      <td>605251</td>\n",
       "      <td>165987</td>\n",
       "    </tr>\n",
       "    <tr>\n",
       "      <th>97</th>\n",
       "      <td>Northwestern Mutual</td>\n",
       "      <td>558000</td>\n",
       "      <td>334654</td>\n",
       "    </tr>\n",
       "  </tbody>\n",
       "</table>\n",
       "</div>"
      ],
      "text/plain": [
       "               Company_Name  Market_Value_$M  Assets_$M\n",
       "Rank                                                   \n",
       "3                     Apple          2849538     351002\n",
       "14                Microsoft          2311359     333779\n",
       "8                  Alphabet          1842326     359268\n",
       "2                    Amazon          1658807     420549\n",
       "65                    Tesla          1113708      62131\n",
       "339   Auto-Owners Insurance           817000      32487\n",
       "7        Berkshire Hathaway           779542     958784\n",
       "134                  Nvidia           684879      44187\n",
       "27           Meta Platforms           605251     165987\n",
       "97      Northwestern Mutual           558000     334654"
      ]
     },
     "execution_count": 66,
     "metadata": {},
     "output_type": "execute_result"
    }
   ],
   "source": [
    "df_2 = df[[\"Rank\", \"Company_Name\", \"Market_Value_$M\", \"Assets_$M\"]].set_index(\"Rank\")\n",
    "df_2"
   ]
  },
  {
   "cell_type": "code",
   "execution_count": 67,
   "metadata": {},
   "outputs": [
    {
     "data": {
      "image/png": "[encoded data removed]",
      "text/plain": [
       "<Figure size 576x432 with 1 Axes>"
      ]
     },
     "metadata": {},
     "output_type": "display_data"
    }
   ],
   "source": [
    "f, ax = plt.subplots(figsize = (8,6))\n",
    "\n",
    "# Market value\n",
    "sns.barplot(x = \"Market_Value_$M\", y = \"Company_Name\", data = df_2,\n",
    "           label = \"Market-Value\", color = \"orchid\")\n",
    "\n",
    "# Assets\n",
    "sns.barplot(x = \"Assets_$M\", y = \"Company_Name\", data = df_2,\n",
    "           label = \"Assets\", color = \"k\", alpha = 0.3)\n",
    "\n",
    "# Legend\n",
    "ax.legend(ncol = 2, loc = \"lower right\", frameon = True)\n",
    "ax.set(ylabel = \"\", xlabel = \"Market_Value & Assets\")\n",
    "# to remove border\n",
    "sns.despine(left = True, bottom = True);"
   ]
  },
  {
   "cell_type": "markdown",
   "metadata": {},
   "source": [
    "## Inferences and Conclusion\n",
    "\n",
    "The provided dataset contains information about the Fortune 1000 companies for the year 2022. \n",
    "\n",
    "`Inferences`:"
   ]
  },
  {
   "cell_type": "markdown",
   "metadata": {},
   "source": [
    "> `Industry Distribution:` The dataset includes companies from various industries, such as Technology, Financial Services, Retail, Energy, Healthcare, etc. The Technology sector has the highest representation, followed by Financial Services and Retail.\n",
    "\n",
    "> `Revenue Distribution:` The dataset provides revenue data for each company. The revenue ranges from billions to trillions of dollars. The majority of companies fall in the revenue range of $10 billion to $100 billion.\n",
    "\n",
    "> `Employee Distribution:` The dataset also includes information about the number of employees in each company. The employee count varies from thousands to hundreds of thousands. Most companies have an employee count between 10,000 and 100,000.\n",
    "\n",
    "> `Top Companies by Revenue:` By analyzing the revenue column, it is possible to identify the top companies in terms of revenue. These companies are likely to be the largest and most successful in the Fortune 1000 list.\n",
    "\n",
    "> `Sector Dominance:` The dataset allows us to determine which sector dominates the Fortune 1000 list. By analyzing the number of companies in each industry, it is possible to identify the sector with the highest representation is Public Sector with majority of 95%."
   ]
  },
  {
   "cell_type": "markdown",
   "metadata": {},
   "source": [
    "Based on these inferences, some `conclusions` can be drawn:"
   ]
  },
  {
   "cell_type": "markdown",
   "metadata": {},
   "source": [
    "> The technology sector continues to dominate the Fortune 1000 list, indicating the significance of technology companies in the current business landscape.\n",
    "\n",
    "> Revenue and employee count are important factors in determining a company's position in the Fortune 1000 list. Companies with higher revenue and a larger workforce are more likely to be included in the list.\n",
    "\n",
    "> The Fortune 1000 list includes companies from various industries, highlighting the diversity of the business landscape and the importance of different sectors in the global economy.\n",
    "\n",
    "> The dataset provides valuable insights into the financial performance and size of the largest companies in the world.\n",
    "\n",
    "In conclusion, the analysis of the dataset provides insights into the industry distribution, revenue, employee count, and top companies in the Fortune 1000 list for 2022. These insights can be used to understand the composition and dynamics of the global businesses."
   ]
  },
  {
   "cell_type": "markdown",
   "metadata": {},
   "source": [
    "## References and Future Work\n",
    "\n",
    ">Future Work / Projects\n",
    "1. Hotel Recommendation System\n",
    "2. Financial Budget Analysis"
   ]
  }
 ],
 "metadata": {
  "kernelspec": {
   "display_name": "Python 3 (ipykernel)",
   "language": "python",
   "name": "python3"
  },
  "language_info": {
   "codemirror_mode": {
    "name": "ipython",
    "version": 3
   },
   "file_extension": ".py",
   "mimetype": "text/x-python",
   "name": "python",
   "nbconvert_exporter": "python",
   "pygments_lexer": "ipython3",
   "version": "3.9.7"
  }
 },
 "nbformat": 4,
 "nbformat_minor": 4
}
